{
 "cells": [
  {
   "cell_type": "code",
   "execution_count": 1,
   "metadata": {},
   "outputs": [
    {
     "name": "stderr",
     "output_type": "stream",
     "text": [
      "/Users/c64136a/Library/Python/3.7/lib/python/site-packages/IPython/core/interactiveshell.py:3063: DtypeWarning: Columns (14,15,32,36,79,147,625) have mixed types.Specify dtype option on import or set low_memory=False.\n",
      "  interactivity=interactivity, compiler=compiler, result=result)\n",
      "/Users/c64136a/Library/Python/3.7/lib/python/site-packages/IPython/core/interactiveshell.py:3063: DtypeWarning: Columns (21,56) have mixed types.Specify dtype option on import or set low_memory=False.\n",
      "  interactivity=interactivity, compiler=compiler, result=result)\n"
     ]
    }
   ],
   "source": [
    "import pandas as pd \n",
    "\n",
    "ECS = pd.read_csv(\"../ecsAAWeb5App_aiData_wRes.csv\")\n",
    "PB = pd.read_csv(\"../ptwd_allF_AIOValidation_wRes.csv\")"
   ]
  },
  {
   "cell_type": "code",
   "execution_count": 2,
   "metadata": {},
   "outputs": [],
   "source": [
    "import dataUtilECS as duECS\n",
    "import dataUtilPB as duPB\n",
    "\n",
    "dECS = duECS.data_Util(ECS,[\"FN\",\"EA\"])\n",
    "dPB = duPB.data_Util(PB,[\"FN\",\"EA\"])\n",
    "\n",
    "fnFeatECS = dECS.fnClstFeatures\n",
    "fnFeatPB = dPB.fnClstFeatures\n",
    "\n",
    "eaFeatECS = dECS.eaClstFeatures\n",
    "eaFeatPB = dPB.eaClstFeatures\n",
    "\n",
    "fnSameFeat = [val for val in fnFeatECS if val in fnFeatPB]\n",
    "eaSameFeat = [val for val in eaFeatECS if val in eaFeatPB]\n"
   ]
  },
  {
   "cell_type": "code",
   "execution_count": 3,
   "metadata": {},
   "outputs": [],
   "source": [
    "ECSdata = ECS[[*fnSameFeat,*eaSameFeat,'BAD_IND']].dropna()\n",
    "PBdata = PB[[*fnSameFeat,*eaSameFeat,'BAD_IND']].dropna()"
   ]
  },
  {
   "cell_type": "code",
   "execution_count": 4,
   "metadata": {},
   "outputs": [],
   "source": [
    "ECStrain = ECSdata.head(40000)\n",
    "PBtrain = PBdata.head(40000)\n",
    "Test = ECSdata.tail(40000)"
   ]
  },
  {
   "cell_type": "code",
   "execution_count": 5,
   "metadata": {},
   "outputs": [
    {
     "ename": "ModuleNotFoundError",
     "evalue": "No module named 'catboost'",
     "output_type": "error",
     "traceback": [
      "\u001b[0;31m---------------------------------------------------------------------------\u001b[0m",
      "\u001b[0;31mModuleNotFoundError\u001b[0m                       Traceback (most recent call last)",
      "\u001b[0;32m<ipython-input-5-20b08dac3133>\u001b[0m in \u001b[0;36m<module>\u001b[0;34m\u001b[0m\n\u001b[1;32m      2\u001b[0m \u001b[0;34m\u001b[0m\u001b[0m\n\u001b[1;32m      3\u001b[0m \u001b[0;32mfrom\u001b[0m \u001b[0msklearn\u001b[0m\u001b[0;34m.\u001b[0m\u001b[0mmodel_selection\u001b[0m \u001b[0;32mimport\u001b[0m \u001b[0mGridSearchCV\u001b[0m\u001b[0;34m\u001b[0m\u001b[0;34m\u001b[0m\u001b[0m\n\u001b[0;32m----> 4\u001b[0;31m \u001b[0;32mfrom\u001b[0m \u001b[0mcatboost\u001b[0m \u001b[0;32mimport\u001b[0m \u001b[0mCatBoostClassifier\u001b[0m\u001b[0;34m\u001b[0m\u001b[0;34m\u001b[0m\u001b[0m\n\u001b[0m\u001b[1;32m      5\u001b[0m \u001b[0;34m\u001b[0m\u001b[0m\n\u001b[1;32m      6\u001b[0m \u001b[0mX_train\u001b[0m \u001b[0;34m=\u001b[0m \u001b[0mECStrain\u001b[0m\u001b[0;34m.\u001b[0m\u001b[0mdrop\u001b[0m\u001b[0;34m(\u001b[0m\u001b[0;34m'BAD_IND'\u001b[0m\u001b[0;34m,\u001b[0m \u001b[0maxis\u001b[0m\u001b[0;34m=\u001b[0m\u001b[0;36m1\u001b[0m\u001b[0;34m)\u001b[0m\u001b[0;34m\u001b[0m\u001b[0;34m\u001b[0m\u001b[0m\n",
      "\u001b[0;31mModuleNotFoundError\u001b[0m: No module named 'catboost'"
     ]
    }
   ],
   "source": [
    "#ECS only model \n",
    "\n",
    "from sklearn.model_selection import GridSearchCV\n",
    "from catboost import CatBoostClassifier\n",
    "\n",
    "X_train = ECStrain.drop('BAD_IND', axis=1)\n",
    "Y_train = ECStrain[['BAD_IND']]\n",
    "\n",
    "X_train = X_train.to_numpy()\n",
    "Y_train = Y_train.to_numpy()\n",
    "\n",
    "parameters = {'depth' : [4,5,6,7,8,9,10],\n",
    "              'learning_rate' : [0.01,0.02,0.03,0.04],\n",
    "              'iterations' : [10, 20,30,40,50,60,70,80,90,100]\n",
    "             }\n",
    "CBC = CatBoostClassifier()\n",
    "\n",
    "Grid_CBC = GridSearchCV(estimator=CBC, param_grid = parameters, n_jobs=-1)\n",
    "Grid_CBC.fit(X_train, Y_train)"
   ]
  },
  {
   "cell_type": "code",
   "execution_count": null,
   "metadata": {},
   "outputs": [],
   "source": []
  }
 ],
 "metadata": {
  "kernelspec": {
   "display_name": "myenv",
   "language": "python",
   "name": "myenv"
  },
  "language_info": {
   "codemirror_mode": {
    "name": "ipython",
    "version": 3
   },
   "file_extension": ".py",
   "mimetype": "text/x-python",
   "name": "python",
   "nbconvert_exporter": "python",
   "pygments_lexer": "ipython3",
   "version": "3.7.6"
  }
 },
 "nbformat": 4,
 "nbformat_minor": 4
}
