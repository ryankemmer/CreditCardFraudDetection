{
 "cells": [
  {
   "cell_type": "markdown",
   "metadata": {},
   "source": [
    "# Credit Card Fraud Detection using Machine Learning"
   ]
  },
  {
   "cell_type": "markdown",
   "metadata": {},
   "source": [
    "### Import libraries"
   ]
  },
  {
   "cell_type": "code",
   "execution_count": 1,
   "metadata": {},
   "outputs": [],
   "source": [
    "import pandas as pd \n",
    "from sklearn.preprocessing import StandardScaler\n",
    "from sklearn.ensemble import RandomForestClassifier\n",
    "from catboost import CatBoostClassifier\n",
    "import keras\n",
    "from keras.models import Sequential\n",
    "from keras.layers import Dense, InputLayer, Dropout, Flatten, Activation, Input\n",
    "from sklearn.ensemble import IsolationForest\n",
    "from sklearn.metrics import roc_curve\n",
    "from sklearn.metrics import auc\n",
    "import matplotlib.pyplot as plt\n",
    "import matplotlib as mpl\n",
    "\n",
    "mpl.rcParams['figure.figsize'] = (10, 10)\n",
    "colors = plt.rcParams['axes.prop_cycle'].by_key()['color']"
   ]
  },
  {
   "cell_type": "markdown",
   "metadata": {},
   "source": [
    "### Import dataset (https://www.kaggle.com/mlg-ulb/creditcardfraud)"
   ]
  },
  {
   "cell_type": "code",
   "execution_count": 2,
   "metadata": {},
   "outputs": [],
   "source": [
    "df = pd.read_csv('../creditcard.csv')\n",
    "df = df.dropna()\n",
    "df = df.drop('Time', axis = 1)"
   ]
  },
  {
   "cell_type": "markdown",
   "metadata": {},
   "source": [
    "### Investigate Class Sizes"
   ]
  },
  {
   "cell_type": "code",
   "execution_count": 3,
   "metadata": {},
   "outputs": [
    {
     "name": "stdout",
     "output_type": "stream",
     "text": [
      "Percent Fraud: 0.1727485630620034%\n",
      "Percent Not Fraud 99.82725143693798%\n"
     ]
    }
   ],
   "source": [
    "groups = df.groupby('Class')\n",
    "\n",
    "fraud = (groups.get_group(1).shape[0] / df.shape[0]) * 100\n",
    "non_fraud = (groups.get_group(0).shape[0] / df.shape[0]) * 100\n",
    "\n",
    "print('Percent Fraud: ' + str(fraud) + '%')\n",
    "print('Percent Not Fraud ' + str(non_fraud) + '%')"
   ]
  },
  {
   "cell_type": "markdown",
   "metadata": {},
   "source": [
    "### Split data into a train and holdout set"
   ]
  },
  {
   "cell_type": "code",
   "execution_count": 4,
   "metadata": {},
   "outputs": [],
   "source": [
    "df_size = df.shape[0]\n",
    "test_size = int(df_size * .3)\n",
    "train_size = df_size - test_size\n",
    "\n",
    "train_df = df.head(train_size)\n",
    "test_df = df.tail(test_size)\n",
    "\n",
    "X_train = train_df.drop('Class', axis = 1)\n",
    "Y_train = train_df['Class']\n",
    "X_test = test_df.drop('Class', axis = 1)\n",
    "Y_test = test_df['Class']"
   ]
  },
  {
   "cell_type": "markdown",
   "metadata": {},
   "source": [
    "### Apply a standard scalar to our data "
   ]
  },
  {
   "cell_type": "code",
   "execution_count": null,
   "metadata": {},
   "outputs": [],
   "source": [
    "for feat in X_train.columns.values:\n",
    "    ss = StandardScaler()\n",
    "    X_train[feat] = ss.fit_transform(X_train[feat].values.reshape(-1,1))\n",
    "    X_test[feat] = ss.transform(X_test[feat].values.reshape(-1,1))"
   ]
  },
  {
   "cell_type": "markdown",
   "metadata": {},
   "source": [
    "### Fit Random Forest Classifier"
   ]
  },
  {
   "cell_type": "code",
   "execution_count": null,
   "metadata": {},
   "outputs": [],
   "source": [
    "rf = RandomForestClassifier()\n",
    "rf.fit(X_train, Y_train)\n",
    "\n",
    "probabilities = rf.predict_proba(X_test)\n",
    "y_pred_rf = probabilities[:,1]"
   ]
  },
  {
   "cell_type": "markdown",
   "metadata": {},
   "source": [
    "### Evaluate Performance"
   ]
  },
  {
   "cell_type": "code",
   "execution_count": null,
   "metadata": {},
   "outputs": [],
   "source": [
    "fpr_rf, tpr_rf, thresholds_rf = roc_curve(Y_test, y_pred_rf)\n",
    "auc_rf = auc(fpr_rf, tpr_rf)\n",
    "\n",
    "plt.plot(100*fpr_rf, 100*tpr_rf, label= 'Random Forest (area = {:.3f})'.format(auc_rf), linewidth=2, color = colors[0])\n",
    "plt.xlabel('False positives [%]')\n",
    "plt.ylabel('True positives [%]')\n",
    "plt.xlim([0,30])\n",
    "plt.ylim([60,100])\n",
    "plt.grid(True)\n",
    "ax = plt.gca()\n",
    "ax.set_aspect('equal')\n",
    "plt.title('Random Forest Model Performance')\n",
    "plt.legend(loc='best')"
   ]
  },
  {
   "cell_type": "markdown",
   "metadata": {},
   "source": [
    "### Fit CatBoost Classifier"
   ]
  },
  {
   "cell_type": "code",
   "execution_count": null,
   "metadata": {},
   "outputs": [],
   "source": [
    "cat = CatBoostClassifier()\n",
    "cat.fit(X_train, Y_train)\n",
    "y_pred_cat = cat.predict(X_test, prediction_type='RawFormulaVal')"
   ]
  },
  {
   "cell_type": "markdown",
   "metadata": {},
   "source": [
    "### Evaluate performacne"
   ]
  },
  {
   "cell_type": "code",
   "execution_count": null,
   "metadata": {},
   "outputs": [],
   "source": [
    "fpr_cat, tpr_cat, thresholds_cat = roc_curve(Y_test, y_pred_cat)\n",
    "auc_cat = auc(fpr_cat, tpr_cat)\n",
    "\n",
    "plt.plot(100*fpr_cat, 100*tpr_cat, label= 'CatBoost (area = {:.3f})'.format(auc_cat), linewidth=2, color = colors[1])\n",
    "plt.xlabel('False positives [%]')\n",
    "plt.ylabel('True positives [%]')\n",
    "plt.xlim([0,30])\n",
    "plt.ylim([60,100])\n",
    "plt.grid(True)\n",
    "ax = plt.gca()\n",
    "ax.set_aspect('equal')\n",
    "plt.title('CatBoost Model Performance')\n",
    "plt.legend(loc='best')"
   ]
  },
  {
   "cell_type": "markdown",
   "metadata": {},
   "source": [
    "### Design and fit Deep Neural Network"
   ]
  },
  {
   "cell_type": "code",
   "execution_count": null,
   "metadata": {},
   "outputs": [],
   "source": [
    "#Design and compile model\n",
    "DNN = Sequential()\n",
    "DNN.add(Input(shape=(X_train.shape[1],)))\n",
    "DNN.add(Dense(100, activation='relu'))\n",
    "DNN.add(Dropout(0.5))\n",
    "DNN.add(Dense(100, activation='relu'))\n",
    "DNN.add(Dropout(0.5))\n",
    "DNN.add(Dense(10, activation='relu'))\n",
    "DNN.add(Dense(1, activation='sigmoid'))\n",
    "DNN.compile(loss='binary_crossentropy', optimizer='adam', metrics = keras.metrics.AUC(name='auc'))\n",
    "\n",
    "#fit model\n",
    "DNN.fit(X_train, Y_train, epochs=10)\n",
    "\n",
    "#generate prediction probabilities on test data\n",
    "y_pred_DNN = DNN.predict(X_test).ravel()"
   ]
  },
  {
   "cell_type": "markdown",
   "metadata": {},
   "source": [
    "### Evaluate Performance"
   ]
  },
  {
   "cell_type": "code",
   "execution_count": null,
   "metadata": {},
   "outputs": [],
   "source": [
    "fpr_DNN, tpr_DNN, thresholds_DNN = roc_curve(Y_test, y_pred_DNN)\n",
    "auc_DNN = auc(fpr_DNN, tpr_DNN)\n",
    "\n",
    "plt.plot(100*fpr_DNN, 100*tpr_DNN, label= 'DNN (area = {:.3f})'.format(auc_DNN), linewidth=2, color = colors[2])\n",
    "plt.xlabel('False positives [%]')\n",
    "plt.ylabel('True positives [%]')\n",
    "plt.xlim([0,30])\n",
    "plt.ylim([60,100])\n",
    "plt.grid(True)\n",
    "ax = plt.gca()\n",
    "ax.set_aspect('equal')\n",
    "plt.title('Deep Neural Network Model Performance')\n",
    "plt.legend(loc='best')"
   ]
  },
  {
   "cell_type": "markdown",
   "metadata": {},
   "source": [
    "### Fit Isolation Forest"
   ]
  },
  {
   "cell_type": "code",
   "execution_count": null,
   "metadata": {},
   "outputs": [],
   "source": [
    "iforest = IsolationForest()\n",
    "iforest.fit(X_train)\n",
    "\n",
    "y_pred_iforest = - iforest.decision_function(X_test)"
   ]
  },
  {
   "cell_type": "markdown",
   "metadata": {},
   "source": [
    "### Evaulate Performance"
   ]
  },
  {
   "cell_type": "code",
   "execution_count": null,
   "metadata": {},
   "outputs": [],
   "source": [
    "fpr_iforest, tpr_iforest, thresholds__iforest = roc_curve(Y_test, y_pred_iforest)\n",
    "auc_iforest = auc(fpr_iforest, tpr_iforest)\n",
    "\n",
    "plt.plot(100*fpr_iforest, 100*tpr_iforest, label= 'iForest (area = {:.3f})'.format(auc_iforest), linewidth=2, color = colors[3])\n",
    "plt.xlabel('False positives [%]')\n",
    "plt.ylabel('True positives [%]')\n",
    "plt.xlim([0,30])\n",
    "plt.ylim([60,100])\n",
    "plt.grid(True)\n",
    "ax = plt.gca()\n",
    "ax.set_aspect('equal')\n",
    "plt.title('Isolation Forest Model Performance')\n",
    "plt.legend(loc='best')"
   ]
  },
  {
   "cell_type": "markdown",
   "metadata": {},
   "source": [
    "### Compare performance across all models"
   ]
  },
  {
   "cell_type": "code",
   "execution_count": null,
   "metadata": {},
   "outputs": [],
   "source": [
    "plt.plot(100*fpr_rf, 100*tpr_rf, label= 'Random Forest (area = {:.3f})'.format(auc_rf), linewidth=2, color = colors[0])\n",
    "plt.plot(100*fpr_cat, 100*tpr_cat, label= 'CatBoost (area = {:.3f})'.format(auc_cat), linewidth=2, color = colors[1])\n",
    "plt.plot(100*fpr_DNN, 100*tpr_DNN, label= 'DNN (area = {:.3f})'.format(auc_DNN), linewidth=2, color = colors[2])\n",
    "plt.plot(100*fpr_iforest, 100*tpr_iforest, label= 'iForest (area = {:.3f})'.format(auc_iforest), linewidth=2, color = colors[3])\n",
    "plt.xlabel('False positives [%]')\n",
    "plt.ylabel('True positives [%]')\n",
    "plt.xlim([0,30])\n",
    "plt.ylim([60,100])\n",
    "plt.grid(True)\n",
    "ax = plt.gca()\n",
    "ax.set_aspect('equal')\n",
    "plt.title('Model Comparison')\n",
    "plt.legend(loc='best')"
   ]
  }
 ],
 "metadata": {
  "kernelspec": {
   "display_name": "Python 3",
   "language": "python",
   "name": "python3"
  },
  "language_info": {
   "codemirror_mode": {
    "name": "ipython",
    "version": 3
   },
   "file_extension": ".py",
   "mimetype": "text/x-python",
   "name": "python",
   "nbconvert_exporter": "python",
   "pygments_lexer": "ipython3",
   "version": "3.7.1"
  }
 },
 "nbformat": 4,
 "nbformat_minor": 2
}
